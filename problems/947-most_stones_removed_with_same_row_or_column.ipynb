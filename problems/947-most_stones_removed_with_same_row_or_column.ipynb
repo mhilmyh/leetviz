{
 "cells": [
  {
   "cell_type": "code",
   "execution_count": 24,
   "metadata": {},
   "outputs": [],
   "source": [
    "def prompt(value = None):\n",
    "    import numpy as np\n",
    "\n",
    "    if not isinstance(value, str) and not isinstance(value, list):\n",
    "        value = input()\n",
    "        \n",
    "    try:\n",
    "        return np.matrix(eval(value)).tolist()\n",
    "    except:\n",
    "        return np.matrix(value).tolist()\n",
    "\n",
    "def draw(matrix):\n",
    "    import matplotlib.pyplot as plt\n",
    "    import numpy as np\n",
    "\n",
    "    y = list(map(lambda x: x[0], matrix))\n",
    "    x = list(map(lambda x: x[1], matrix))\n",
    "    \n",
    "    plt.rc('grid', linestyle='-', color='black')\n",
    "    \n",
    "    plt.scatter(x, y, s=100, c='black')\n",
    "    plt.xticks(np.arange(0, max(x)+1, 1))\n",
    "    plt.yticks(np.arange(0, max(y)+1, 1))\n",
    "\n",
    "    plt.grid()\n",
    "    plt.show()"
   ]
  },
  {
   "cell_type": "code",
   "execution_count": 25,
   "metadata": {},
   "outputs": [
    {
     "data": {
      "image/png": "[encoded data removed]",
      "text/plain": [
       "<Figure size 640x480 with 1 Axes>"
      ]
     },
     "metadata": {},
     "output_type": "display_data"
    }
   ],
   "source": [
    "draw(prompt())"
   ]
  }
 ],
 "metadata": {
  "kernelspec": {
   "display_name": "venv",
   "language": "python",
   "name": "python3"
  },
  "language_info": {
   "codemirror_mode": {
    "name": "ipython",
    "version": 3
   },
   "file_extension": ".py",
   "mimetype": "text/x-python",
   "name": "python",
   "nbconvert_exporter": "python",
   "pygments_lexer": "ipython3",
   "version": "3.12.4"
  }
 },
 "nbformat": 4,
 "nbformat_minor": 2
}
